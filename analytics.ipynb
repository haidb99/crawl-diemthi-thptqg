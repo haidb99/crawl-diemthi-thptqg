{
 "cells": [
  {
   "cell_type": "code",
   "execution_count": 1,
   "id": "5cd56d2a",
   "metadata": {},
   "outputs": [],
   "source": [
    "import pandas as pd\n",
    "df = pd.read_csv(\"data/diemthi_2025.csv\", header=0)"
   ]
  },
  {
   "cell_type": "code",
   "execution_count": 2,
   "id": "3de8a84b",
   "metadata": {},
   "outputs": [
    {
     "name": "stdout",
     "output_type": "stream",
     "text": [
      "[\n",
      "  {\n",
      "    \"so_bao_danh\":21022536,\n",
      "    \"city_code\":21,\n",
      "    \"ngay_sinh\":\"---\",\n",
      "    \"ho_ten\":null,\n",
      "    \"toan\":5.75,\n",
      "    \"ngu_van\":7.0,\n",
      "    \"vat_ly\":7.75,\n",
      "    \"hoa_hoc\":6.75,\n",
      "    \"sinh_hoc\":-1.0,\n",
      "    \"ngoai_ngu\":-1.0,\n",
      "    \"ma_ngoai_ngu\":null,\n",
      "    \"lich_su\":-1.0,\n",
      "    \"dia_ly\":-1.0,\n",
      "    \"gdcd\":-1.0,\n",
      "    \"gdkt_pl\":-1.0,\n",
      "    \"tin_hoc\":-1.0,\n",
      "    \"cn_cong_nghiep\":-1.0,\n",
      "    \"cn_nong_nghiep\":-1.0,\n",
      "    \"tong_diem\":27.25\n",
      "  }\n",
      "]\n"
     ]
    }
   ],
   "source": [
    "print(df[df[\"so_bao_danh\"] == 21022536].to_json(orient=\"records\", force_ascii=False, indent=2))"
   ]
  },
  {
   "cell_type": "code",
   "execution_count": 4,
   "id": "80519dd7",
   "metadata": {},
   "outputs": [
    {
     "data": {
      "text/html": [
       "<div>\n",
       "<style scoped>\n",
       "    .dataframe tbody tr th:only-of-type {\n",
       "        vertical-align: middle;\n",
       "    }\n",
       "\n",
       "    .dataframe tbody tr th {\n",
       "        vertical-align: top;\n",
       "    }\n",
       "\n",
       "    .dataframe thead th {\n",
       "        text-align: right;\n",
       "    }\n",
       "</style>\n",
       "<table border=\"1\" class=\"dataframe\">\n",
       "  <thead>\n",
       "    <tr style=\"text-align: right;\">\n",
       "      <th></th>\n",
       "      <th>so_bao_danh</th>\n",
       "    </tr>\n",
       "  </thead>\n",
       "  <tbody>\n",
       "    <tr>\n",
       "      <th>664654</th>\n",
       "      <td>21000001</td>\n",
       "    </tr>\n",
       "    <tr>\n",
       "      <th>664655</th>\n",
       "      <td>21000002</td>\n",
       "    </tr>\n",
       "    <tr>\n",
       "      <th>664656</th>\n",
       "      <td>21000003</td>\n",
       "    </tr>\n",
       "    <tr>\n",
       "      <th>664657</th>\n",
       "      <td>21000004</td>\n",
       "    </tr>\n",
       "    <tr>\n",
       "      <th>664658</th>\n",
       "      <td>21000005</td>\n",
       "    </tr>\n",
       "    <tr>\n",
       "      <th>...</th>\n",
       "      <td>...</td>\n",
       "    </tr>\n",
       "    <tr>\n",
       "      <th>691134</th>\n",
       "      <td>21026604</td>\n",
       "    </tr>\n",
       "    <tr>\n",
       "      <th>691135</th>\n",
       "      <td>21026605</td>\n",
       "    </tr>\n",
       "    <tr>\n",
       "      <th>691136</th>\n",
       "      <td>21026606</td>\n",
       "    </tr>\n",
       "    <tr>\n",
       "      <th>691137</th>\n",
       "      <td>21026608</td>\n",
       "    </tr>\n",
       "    <tr>\n",
       "      <th>691138</th>\n",
       "      <td>21026609</td>\n",
       "    </tr>\n",
       "  </tbody>\n",
       "</table>\n",
       "<p>26485 rows × 1 columns</p>\n",
       "</div>"
      ],
      "text/plain": [
       "        so_bao_danh\n",
       "664654     21000001\n",
       "664655     21000002\n",
       "664656     21000003\n",
       "664657     21000004\n",
       "664658     21000005\n",
       "...             ...\n",
       "691134     21026604\n",
       "691135     21026605\n",
       "691136     21026606\n",
       "691137     21026608\n",
       "691138     21026609\n",
       "\n",
       "[26485 rows x 1 columns]"
      ]
     },
     "execution_count": 4,
     "metadata": {},
     "output_type": "execute_result"
    }
   ],
   "source": [
    "df[df[\"city_code\"] == 21][[\"so_bao_danh\"]].sort_values(by=\"so_bao_danh\").drop_duplicates()"
   ]
  },
  {
   "cell_type": "code",
   "execution_count": null,
   "id": "db5a9d42",
   "metadata": {},
   "outputs": [],
   "source": []
  }
 ],
 "metadata": {
  "kernelspec": {
   "display_name": ".venv",
   "language": "python",
   "name": "python3"
  },
  "language_info": {
   "codemirror_mode": {
    "name": "ipython",
    "version": 3
   },
   "file_extension": ".py",
   "mimetype": "text/x-python",
   "name": "python",
   "nbconvert_exporter": "python",
   "pygments_lexer": "ipython3",
   "version": "3.13.3"
  }
 },
 "nbformat": 4,
 "nbformat_minor": 5
}

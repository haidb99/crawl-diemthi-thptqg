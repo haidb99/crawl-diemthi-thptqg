{
 "cells": [
  {
   "cell_type": "code",
   "execution_count": 12,
   "id": "a16c00a0",
   "metadata": {},
   "outputs": [],
   "source": [
    "import pyspark \n",
    "from pyspark.sql import SparkSession, DataFrame\n",
    "from pyspark import SparkConf, SparkContext\n",
    "import os\n",
    "import re\n",
    "import numpy as np\n",
    "import time\n",
    "from functools import reduce\n",
    "import pandas as pd\n",
    "\n",
    "Location_master = 'spark://linux:7077'\n",
    "Location_master = 'local'\n",
    "try:\n",
    "    sparkSession.stop()\n",
    "except:\n",
    "    pass\n",
    "sparkSession = SparkSession \\\n",
    "    .builder \\\n",
    "    .master(Location_master)\\\n",
    "    .appName(\"Process 2020\") \\\n",
    "    .config(\"spark.some.config.option\", \"some-value\") \\\n",
    "    .config(\"spark.executor.memory\", \"4g\") \\\n",
    "    .config('spark.cores.max','4')\\\n",
    "    .getOrCreate()"
   ]
  },
  {
   "cell_type": "code",
   "execution_count": 13,
   "id": "ce8a884f",
   "metadata": {},
   "outputs": [
    {
     "name": "stdout",
     "output_type": "stream",
     "text": [
      "+--------+-------+----+-------+---------+------+-------+--------+----+-------+------+----+----+\n",
      "|     SBD|Cum_thi|Toan|Ngu_van|Ngoai_ngu|Vat_ly|Hoa_hoc|Sinh_hoc|KHTN|Lich_su|Dia_ly|GDCD|KHXH|\n",
      "+--------+-------+----+-------+---------+------+-------+--------+----+-------+------+----+----+\n",
      "|18000099|     18| 8.2|    6.5|      6.2|   7.5|   7.75|    5.75|null|   null|  null|null|null|\n",
      "|18000098|     18| 7.6|    6.0|      6.0|  7.75|    8.0|    6.75|null|   null|  null|null|null|\n",
      "|18000097|     18| 5.6|    6.5|      4.0|  null|   null|    null|null|   3.25|   6.0|8.25|null|\n",
      "|18000096|     18| 7.0|    7.0|      5.2|  null|   null|    null|null|   3.75|  8.25| 9.5|null|\n",
      "|18000095|     18| 6.6|    6.5|      6.0|  null|   null|    null|null|   7.25|   8.0| 9.0|null|\n",
      "+--------+-------+----+-------+---------+------+-------+--------+----+-------+------+----+----+\n",
      "only showing top 5 rows\n",
      "\n",
      "+--------+-------+----+-------+---------+------+-------+--------+----+-------+------+----+----+\n",
      "|     SBD|Cum_thi|Toan|Ngu_van|Ngoai_ngu|Vat_ly|Hoa_hoc|Sinh_hoc|KHTN|Lich_su|Dia_ly|GDCD|KHXH|\n",
      "+--------+-------+----+-------+---------+------+-------+--------+----+-------+------+----+----+\n",
      "|01000001|     01| 2.2|    3.5|     null|  null|   null|    null|null|    2.5|   5.5|null|null|\n",
      "|01000002|     01| 9.2|   8.25|     10.0|  null|   null|    null|null|   5.75|  9.75|9.25|null|\n",
      "|01000003|     01| 4.4|   6.25|     null|  null|   null|    null|null|   4.25|   4.0|null|null|\n",
      "|01000004|     01| 8.4|   6.75|     10.0|   4.0|    3.0|     3.5|null|   null|  null|null|null|\n",
      "|01000005|     01| 8.8|   8.25|      9.4|  8.25|   5.75|    5.25|null|   null|  null|null|null|\n",
      "+--------+-------+----+-------+---------+------+-------+--------+----+-------+------+----+----+\n",
      "only showing top 5 rows\n",
      "\n",
      "root\n",
      " |-- SBD: string (nullable = true)\n",
      " |-- Cum_thi: string (nullable = true)\n",
      " |-- Toan: string (nullable = true)\n",
      " |-- Ngu_van: string (nullable = true)\n",
      " |-- Ngoai_ngu: string (nullable = true)\n",
      " |-- Vat_ly: string (nullable = true)\n",
      " |-- Hoa_hoc: string (nullable = true)\n",
      " |-- Sinh_hoc: string (nullable = true)\n",
      " |-- KHTN: string (nullable = true)\n",
      " |-- Lich_su: string (nullable = true)\n",
      " |-- Dia_ly: string (nullable = true)\n",
      " |-- GDCD: string (nullable = true)\n",
      " |-- KHXH: string (nullable = true)\n",
      "\n",
      "root\n",
      " |-- SBD: string (nullable = true)\n",
      " |-- Cum_thi: string (nullable = true)\n",
      " |-- Toan: string (nullable = true)\n",
      " |-- Ngu_van: string (nullable = true)\n",
      " |-- Ngoai_ngu: string (nullable = true)\n",
      " |-- Vat_ly: string (nullable = true)\n",
      " |-- Hoa_hoc: string (nullable = true)\n",
      " |-- Sinh_hoc: string (nullable = true)\n",
      " |-- KHTN: string (nullable = true)\n",
      " |-- Lich_su: string (nullable = true)\n",
      " |-- Dia_ly: string (nullable = true)\n",
      " |-- GDCD: string (nullable = true)\n",
      " |-- KHXH: string (nullable = true)\n",
      "\n"
     ]
    }
   ],
   "source": [
    "data_dir = '../../../Data_process/CrawlBosung/*/'\n",
    "df_re_crawl = sparkSession.read.csv(data_dir, header=True)\n",
    "df = sparkSession.read.csv('../../../Data_process/Diemthi2021.csv', header=True)\n",
    "\n",
    "df_re_crawl = df_re_crawl.drop('_c0')\n",
    "df_re_crawl.show(5)\n",
    "df.show(5)\n",
    "\n",
    "df_re_crawl.printSchema()\n",
    "df.printSchema()"
   ]
  },
  {
   "cell_type": "code",
   "execution_count": 14,
   "id": "8d3d22f7",
   "metadata": {},
   "outputs": [
    {
     "name": "stdout",
     "output_type": "stream",
     "text": [
      "37395\n",
      "37395\n",
      "908997\n"
     ]
    }
   ],
   "source": [
    "print(df_re_crawl.count())\n",
    "df_re_crawl = df_re_crawl.drop_duplicates()\n",
    "print(df_re_crawl.count())\n",
    "print(df.count())"
   ]
  },
  {
   "cell_type": "code",
   "execution_count": 15,
   "id": "b9461e92",
   "metadata": {},
   "outputs": [
    {
     "name": "stdout",
     "output_type": "stream",
     "text": [
      "945460\n"
     ]
    }
   ],
   "source": [
    "data_all = reduce(DataFrame.unionAll, [df_re_crawl, df])\n",
    "data_all = data_all.drop_duplicates()\n",
    "print(data_all.count())"
   ]
  },
  {
   "cell_type": "markdown",
   "id": "4f9d36ff",
   "metadata": {},
   "source": [
    "### Thay đổi kiểu dữ liệu các trường dữ liệu về đúng dạng của nó"
   ]
  },
  {
   "cell_type": "code",
   "execution_count": 16,
   "id": "bc8a2a4a",
   "metadata": {},
   "outputs": [],
   "source": [
    "import pyspark.sql.functions as F\n",
    "import pyspark.sql.functions as f\n",
    "from pyspark.sql.types import FloatType, StringType, IntegerType"
   ]
  },
  {
   "cell_type": "code",
   "execution_count": 17,
   "id": "318db31e",
   "metadata": {
    "scrolled": false
   },
   "outputs": [
    {
     "name": "stdout",
     "output_type": "stream",
     "text": [
      "root\n",
      " |-- SBD: string (nullable = true)\n",
      " |-- Cum_thi: string (nullable = true)\n",
      " |-- Toan: float (nullable = true)\n",
      " |-- Ngu_van: float (nullable = true)\n",
      " |-- Ngoai_ngu: float (nullable = true)\n",
      " |-- Vat_ly: float (nullable = true)\n",
      " |-- Hoa_hoc: float (nullable = true)\n",
      " |-- Sinh_hoc: float (nullable = true)\n",
      " |-- KHTN: string (nullable = true)\n",
      " |-- Lich_su: float (nullable = true)\n",
      " |-- Dia_ly: float (nullable = true)\n",
      " |-- GDCD: float (nullable = true)\n",
      " |-- KHXH: string (nullable = true)\n",
      "\n"
     ]
    }
   ],
   "source": [
    "data_all = data_all.drop('_c0')\n",
    "data_all = data_all.withColumn('Toan', F.col('Toan').cast(FloatType()))\n",
    "data_all = data_all.withColumn('Ngu_van', F.col('Ngu_van').cast(FloatType()))\n",
    "data_all = data_all.withColumn('Ngoai_ngu', F.col('Ngoai_ngu').cast(FloatType()))\n",
    "data_all = data_all.withColumn('Vat_ly', F.col('Vat_ly').cast(FloatType()))\n",
    "data_all = data_all.withColumn('Hoa_hoc', F.col('Hoa_hoc').cast(FloatType()))\n",
    "data_all = data_all.withColumn('Sinh_hoc', F.col('Sinh_hoc').cast(FloatType()))\n",
    "data_all = data_all.withColumn('Lich_su', F.col('Lich_su').cast(FloatType()))\n",
    "data_all = data_all.withColumn('Dia_ly', F.col('Dia_ly').cast(FloatType()))\n",
    "data_all = data_all.withColumn('GDCD', F.col('GDCD').cast(FloatType()))\n",
    "\n",
    "data_all.printSchema()"
   ]
  },
  {
   "cell_type": "code",
   "execution_count": null,
   "id": "e9cd1461",
   "metadata": {},
   "outputs": [],
   "source": [
    "data_all = data_all.drop_duplicates()\n",
    "print(data_all.count())"
   ]
  },
  {
   "cell_type": "code",
   "execution_count": 9,
   "id": "16ef1dc9",
   "metadata": {},
   "outputs": [],
   "source": [
    "from pyspark.sql.window import Window\n",
    "\n",
    "data_all = data_all.withColumn('row_num', f.row_number().over(\n",
    "    Window.partitionBy('SBD').orderBy('SBD')\n",
    "))"
   ]
  },
  {
   "cell_type": "code",
   "execution_count": 8,
   "id": "8f8e7fe0",
   "metadata": {},
   "outputs": [],
   "source": [
    "# if(data_bosung.count() == 0):\n",
    "#     data_dup = data_all.filter('row_num = 2').withColumn('raw', f.substring(f.col('SBD'),0,5))\n",
    "#     data_dup = data_dup.groupBy('raw').count().toPandas()\n",
    "#     list_data_miss = []\n",
    "#     list_dup = list(data_dup['raw'].values)\n",
    "#     for dup in list_dup:\n",
    "#         for i in range(0,10):\n",
    "#             pattern = dup + str(i)\n",
    "#             if(data_all.filter(\"SBD like '{0}%'\".format(pattern)).count() == 0):\n",
    "#                 list_data_miss.append(pattern)\n",
    "\n",
    "#     list_data_miss = pd.DataFrame({'Miss': list_data_miss})\n",
    "#     list_data_miss.to_csv(\"../../../Data_process/ListMiss/miss.csv\")"
   ]
  },
  {
   "cell_type": "code",
   "execution_count": 10,
   "id": "3affb72d",
   "metadata": {
    "scrolled": false
   },
   "outputs": [
    {
     "name": "stdout",
     "output_type": "stream",
     "text": [
      "987768\n",
      "987768\n"
     ]
    }
   ],
   "source": [
    "print(data_all.count())\n",
    "data_all = data_all.filter('row_num == 1')\n",
    "data_all = data_all.drop(\"row_num\")\n",
    "data_all = data_all.drop_duplicates()\n",
    "print(data_all.count())\n",
    "data_all = data_all.orderBy(\"SBD\")\n",
    "data_all.repartition(1).write.format(\"com.databricks.spark.csv\")\\\n",
    "        .option(\"header\", \"true\").save(\"mydata.csv\", mode='overwrite')"
   ]
  },
  {
   "cell_type": "code",
   "execution_count": 15,
   "id": "e44ca1d7",
   "metadata": {},
   "outputs": [
    {
     "data": {
      "text/plain": [
       "11036"
      ]
     },
     "execution_count": 15,
     "metadata": {},
     "output_type": "execute_result"
    }
   ],
   "source": [
    "980876 - 969840"
   ]
  },
  {
   "cell_type": "code",
   "execution_count": 16,
   "id": "e446c7ad",
   "metadata": {},
   "outputs": [],
   "source": [
    "sparkSession.stop()"
   ]
  },
  {
   "cell_type": "code",
   "execution_count": null,
   "id": "bf1cfb8f",
   "metadata": {},
   "outputs": [],
   "source": []
  }
 ],
 "metadata": {
  "kernelspec": {
   "display_name": "Python 3",
   "language": "python",
   "name": "python3"
  },
  "language_info": {
   "codemirror_mode": {
    "name": "ipython",
    "version": 3
   },
   "file_extension": ".py",
   "mimetype": "text/x-python",
   "name": "python",
   "nbconvert_exporter": "python",
   "pygments_lexer": "ipython3",
   "version": "3.8.8"
  }
 },
 "nbformat": 4,
 "nbformat_minor": 5
}

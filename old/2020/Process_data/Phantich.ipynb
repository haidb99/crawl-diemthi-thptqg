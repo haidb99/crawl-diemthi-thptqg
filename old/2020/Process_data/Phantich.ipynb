{
 "cells": [
  {
   "cell_type": "code",
   "execution_count": 1,
   "id": "47113821",
   "metadata": {},
   "outputs": [],
   "source": [
    "import pyspark \n",
    "from pyspark.sql import SparkSession, DataFrame\n",
    "from pyspark import SparkConf, SparkContext\n",
    "import os\n",
    "import re\n",
    "import numpy as np\n",
    "import time\n",
    "from functools import reduce\n",
    "import pyspark.sql.functions as F\n",
    "import pyspark.sql.functions as f\n",
    "\n",
    "from pyspark.sql.types import FloatType, StringType, IntegerType\n",
    "from pyspark.sql.window import Window\n",
    "\n",
    "Location_master = 'spark://linux:7077'\n",
    "# Location_master = 'local'\n",
    "try:\n",
    "    sparkSession.stop()\n",
    "except:\n",
    "    pass\n",
    "sparkSession = SparkSession \\\n",
    "    .builder \\\n",
    "    .master(Location_master)\\\n",
    "    .appName(\"Phan tich 2020\") \\\n",
    "    .config(\"spark.some.config.option\", \"some-value\") \\\n",
    "    .config(\"spark.executor.memory\", \"4g\") \\\n",
    "    .config('spark.cores.max','4')\\\n",
    "    .getOrCreate()"
   ]
  },
  {
   "cell_type": "code",
   "execution_count": 2,
   "id": "100f3070",
   "metadata": {},
   "outputs": [],
   "source": [
    "import pandas as pd\n",
    "import numpy as np\n",
    "import matplotlib.pyplot as plt\n",
    "\n",
    "# Make the graphs a bit prettier, and bigger\n",
    "plt.style.use(\n",
    "    'ggplot')\n",
    "plt.rcParams['figure.figsize'] = (15, 5)"
   ]
  },
  {
   "cell_type": "code",
   "execution_count": 3,
   "id": "3f3caf64",
   "metadata": {},
   "outputs": [
    {
     "name": "stdout",
     "output_type": "stream",
     "text": [
      "811448\n",
      "root\n",
      " |-- SBD: string (nullable = true)\n",
      " |-- Toan: string (nullable = true)\n",
      " |-- Ngu_van: string (nullable = true)\n",
      " |-- Ngoai_ngu: string (nullable = true)\n",
      " |-- Vat_ly: string (nullable = true)\n",
      " |-- Hoa_hoc: string (nullable = true)\n",
      " |-- Sinh_hoc: string (nullable = true)\n",
      " |-- Lich_su: string (nullable = true)\n",
      " |-- Dia_ly: string (nullable = true)\n",
      " |-- GDCD: string (nullable = true)\n",
      " |-- Ma_cum: string (nullable = true)\n",
      "\n",
      "+--------+----+-------+---------+------+-------+--------+-------+------+----+------+\n",
      "|     SBD|Toan|Ngu_van|Ngoai_ngu|Vat_ly|Hoa_hoc|Sinh_hoc|Lich_su|Dia_ly|GDCD|Ma_cum|\n",
      "+--------+----+-------+---------+------+-------+--------+-------+------+----+------+\n",
      "|01000001| 7.0|    6.0|     null|  null|   null|    null|    8.0|  null|null|    01|\n",
      "|01000002| 9.0|    6.0|      9.4|  7.25|   8.75|    7.25|   null|  null|null|    01|\n",
      "|01000003| 8.8|    6.5|      6.0|  8.25|   8.75|    4.75|   null|  null|null|    01|\n",
      "|01000004| 7.0|   null|      8.2|  null|    6.0|    null|   null|  null|null|    01|\n",
      "|01000005| 9.0|    7.5|      9.2|  null|   null|    null|   5.75|  7.25|9.25|    01|\n",
      "+--------+----+-------+---------+------+-------+--------+-------+------+----+------+\n",
      "only showing top 5 rows\n",
      "\n"
     ]
    }
   ],
   "source": [
    "data = sparkSession.read.csv(\"Diemthi2020.csv\", header=True)\n",
    "print(data.count())\n",
    "data.printSchema()\n",
    "data.show(5)"
   ]
  },
  {
   "cell_type": "code",
   "execution_count": 4,
   "id": "513ebfff",
   "metadata": {},
   "outputs": [
    {
     "name": "stdout",
     "output_type": "stream",
     "text": [
      "root\n",
      " |-- SBD: string (nullable = true)\n",
      " |-- Toan: float (nullable = true)\n",
      " |-- Ngu_van: float (nullable = true)\n",
      " |-- Ngoai_ngu: float (nullable = true)\n",
      " |-- Vat_ly: float (nullable = true)\n",
      " |-- Hoa_hoc: float (nullable = true)\n",
      " |-- Sinh_hoc: float (nullable = true)\n",
      " |-- Lich_su: float (nullable = true)\n",
      " |-- Dia_ly: float (nullable = true)\n",
      " |-- GDCD: float (nullable = true)\n",
      " |-- Ma_cum: string (nullable = true)\n",
      "\n"
     ]
    }
   ],
   "source": [
    "data_all = data.withColumn('Toan', F.col('Toan').cast(FloatType()))\n",
    "data_all = data_all.withColumn('Ngu_van', F.col('Ngu_van').cast(FloatType()))\n",
    "data_all = data_all.withColumn('Ngoai_ngu', F.col('Ngoai_ngu').cast(FloatType()))\n",
    "data_all = data_all.withColumn('Vat_ly', F.col('Vat_ly').cast(FloatType()))\n",
    "data_all = data_all.withColumn('Hoa_hoc', F.col('Hoa_hoc').cast(FloatType()))\n",
    "data_all = data_all.withColumn('Sinh_hoc', F.col('Sinh_hoc').cast(FloatType()))\n",
    "data_all = data_all.withColumn('Lich_su', F.col('Lich_su').cast(FloatType()))\n",
    "data_all = data_all.withColumn('Dia_ly', F.col('Dia_ly').cast(FloatType()))\n",
    "data_all = data_all.withColumn('GDCD', F.col('GDCD').cast(FloatType()))\n",
    "\n",
    "data_all.printSchema()"
   ]
  },
  {
   "cell_type": "markdown",
   "id": "8eaeb8f7",
   "metadata": {},
   "source": [
    "## Phân tích theo từng môn học"
   ]
  },
  {
   "cell_type": "code",
   "execution_count": 5,
   "id": "4b2d8800",
   "metadata": {},
   "outputs": [],
   "source": [
    "df = data_all.toPandas()"
   ]
  },
  {
   "cell_type": "code",
   "execution_count": 7,
   "id": "ea468b47",
   "metadata": {},
   "outputs": [
    {
     "name": "stdout",
     "output_type": "stream",
     "text": [
      "<class 'pandas.core.frame.DataFrame'>\n",
      "RangeIndex: 811448 entries, 0 to 811447\n",
      "Data columns (total 11 columns):\n",
      " #   Column     Non-Null Count   Dtype  \n",
      "---  ------     --------------   -----  \n",
      " 0   SBD        811448 non-null  object \n",
      " 1   Toan       807976 non-null  float32\n",
      " 2   Ngu_van    799437 non-null  float32\n",
      " 3   Ngoai_ngu  724973 non-null  float32\n",
      " 4   Vat_ly     269363 non-null  float32\n",
      " 5   Hoa_hoc    271142 non-null  float32\n",
      " 6   Sinh_hoc   266478 non-null  float32\n",
      " 7   Lich_su    534985 non-null  float32\n",
      " 8   Dia_ly     519979 non-null  float32\n",
      " 9   GDCD       458589 non-null  float32\n",
      " 10  Ma_cum     811448 non-null  object \n",
      "dtypes: float32(9), object(2)\n",
      "memory usage: 40.2+ MB\n"
     ]
    }
   ],
   "source": [
    "df.info()"
   ]
  },
  {
   "cell_type": "code",
   "execution_count": 133,
   "id": "27fe1786",
   "metadata": {},
   "outputs": [
    {
     "data": {
      "image/png": "[encoded data removed]",
      "text/plain": [
       "<Figure size 1080x360 with 1 Axes>"
      ]
     },
     "metadata": {},
     "output_type": "display_data"
    }
   ],
   "source": [
    "data_show = df['Vat_ly'].value_counts().sort_index(ascending=True)\n",
    "plt.xlabel('Điểm', labelpad=10)\n",
    "plt.ylabel('Số lượng', labelpad=15)\n",
    "for index, value in enumerate(data_show.values):\n",
    "    plt.text(index, value, '   ' + str(value), rotation = 90, \n",
    "             horizontalalignment='center', multialignment='center')\n",
    "    \n",
    "data_show.plot(kind='bar')\n",
    "plt.savefig('data.png')"
   ]
  },
  {
   "cell_type": "code",
   "execution_count": 6,
   "id": "ca63e696",
   "metadata": {},
   "outputs": [],
   "source": [
    "# sparkSession.stop()"
   ]
  },
  {
   "cell_type": "code",
   "execution_count": null,
   "id": "d9118c2e",
   "metadata": {},
   "outputs": [],
   "source": []
  }
 ],
 "metadata": {
  "kernelspec": {
   "display_name": "Python 3",
   "language": "python",
   "name": "python3"
  },
  "language_info": {
   "codemirror_mode": {
    "name": "ipython",
    "version": 3
   },
   "file_extension": ".py",
   "mimetype": "text/x-python",
   "name": "python",
   "nbconvert_exporter": "python",
   "pygments_lexer": "ipython3",
   "version": "3.8.8"
  }
 },
 "nbformat": 4,
 "nbformat_minor": 5
}

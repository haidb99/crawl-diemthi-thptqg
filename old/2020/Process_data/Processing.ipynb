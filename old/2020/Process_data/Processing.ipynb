{
 "cells": [
  {
   "cell_type": "code",
   "execution_count": 1,
   "id": "a16c00a0",
   "metadata": {},
   "outputs": [],
   "source": [
    "import pyspark \n",
    "from pyspark.sql import SparkSession, DataFrame\n",
    "from pyspark import SparkConf, SparkContext\n",
    "import os\n",
    "import re\n",
    "import numpy as np\n",
    "import time\n",
    "from functools import reduce\n",
    "\n",
    "Location_master = 'spark://linux:7077'\n",
    "# Location_master = 'local'\n",
    "try:\n",
    "    sparkSession.stop()\n",
    "except:\n",
    "    pass\n",
    "sparkSession = SparkSession \\\n",
    "    .builder \\\n",
    "    .master(Location_master)\\\n",
    "    .appName(\"Process 2020\") \\\n",
    "    .config(\"spark.some.config.option\", \"some-value\") \\\n",
    "    .config(\"spark.executor.memory\", \"4g\") \\\n",
    "    .config('spark.cores.max','4')\\\n",
    "    .getOrCreate()"
   ]
  },
  {
   "cell_type": "code",
   "execution_count": 2,
   "id": "ce8a884f",
   "metadata": {},
   "outputs": [
    {
     "name": "stdout",
     "output_type": "stream",
     "text": [
      "+---+--------+--------+----+-------+---------+------+-------+--------+---------+-------+------+----+---------+\n",
      "|_c0|     SBD| Cum_thi|Toan|Ngu_van|Ngoai_ngu|Vat_ly|Hoa_hoc|Sinh_hoc|Diem_KHTN|Lich_su|Dia_ly|GDCD|Diem_KHXH|\n",
      "+---+--------+--------+----+-------+---------+------+-------+--------+---------+-------+------+----+---------+\n",
      "|  0|64002156|64002156|   7|   5.25|      3.4|  7.25|      6|    5.25|     null|   null|  null|null|     null|\n",
      "|  1|64002157|64002157| 5.4|   6.25|      1.8|  null|   null|    null|     null|      4|  null|   8|     null|\n",
      "|  2|64002158|64002158| 4.8|      7|        4|  null|   null|    null|     null|   5.25|  null|   8|     null|\n",
      "|  3|64002159|64002159|   6|   6.75|      3.2|  null|   null|    null|     null|   3.25|  null|8.75|     null|\n",
      "|  4|64002160|64002160| 5.2|      7|      2.8|  null|   null|    null|     null|    5.5|  null| 8.5|     null|\n",
      "|  5|64002161|64002161| 6.8|   6.75|        4|  null|   null|    null|     null|      5|  null|   9|     null|\n",
      "|  6|64002162|64002162| 7.4|      7|      4.6|  7.25|      7|     6.5|     null|   null|  null|null|     null|\n",
      "|  7|64002163|64002163|   3|   4.75|      3.4|  null|   null|    null|     null|    3.5|  null| 5.5|     null|\n",
      "|  8|64002164|64002164| 5.8|      5|      2.2|     3|   4.25|    3.25|     null|   null|  null|null|     null|\n",
      "|  9|64002165|64002165| 6.8|   6.75|      4.2|  5.25|      6|    4.75|     null|   null|  null|null|     null|\n",
      "| 10|64002166|64002166|   6|    6.5|      2.6|  null|   null|    null|     null|   3.75|  null| 8.5|     null|\n",
      "| 11|64002167|64002167| 6.2|   7.25|      2.8|  null|   null|    null|     null|   3.75|  null| 7.5|     null|\n",
      "| 12|64002168|64002168|   5|   6.75|      2.6|  null|   null|    null|     null|      4|  null|9.25|     null|\n",
      "| 13|64002169|64002169| 7.4|   7.75|      2.4|  null|   null|    null|     null|   5.75|  null| 9.5|     null|\n",
      "| 14|64002170|64002170| 2.2|      5|      2.8|  null|   null|    null|     null|   6.75|  null|8.75|     null|\n",
      "| 15|64002171|64002171| 7.2|   6.75|      5.2|  6.25|   5.75|    5.75|     null|   null|  null|null|     null|\n",
      "| 16|64002172|64002172| 5.4|    4.5|      3.6|  null|   null|    null|     null|      7|  null| 9.5|     null|\n",
      "| 17|64002173|64002173| 8.4|   6.25|        2|  null|   null|    null|     null|   4.25|  null|9.25|     null|\n",
      "| 18|64002174|64002174|   5|   7.75|      2.8|  null|   null|    null|     null|      6|  null|8.25|     null|\n",
      "| 19|64002175|64002175|   7|      7|      2.6|   4.5|   7.25|    6.25|     null|   null|  null|null|     null|\n",
      "+---+--------+--------+----+-------+---------+------+-------+--------+---------+-------+------+----+---------+\n",
      "only showing top 20 rows\n",
      "\n",
      "+---+--------+-------+----+-------+------+-------+--------+----+-------+------+----+----+---------+\n",
      "|_c0|     SBD|Cum_thi|Toan|Ngu_van|Vat_ly|Hoa_hoc|Sinh_hoc|KHTN|Lich_su|Dia_ly|GDCD|KHXH|Ngoai_ngu|\n",
      "+---+--------+-------+----+-------+------+-------+--------+----+-------+------+----+----+---------+\n",
      "|  0|02041799|     02| 9.2|    7.5|  8.25|   6.75|     6.5|null|   null|  null|null|null|      8.8|\n",
      "|  1|02041798|     02| 8.4|      7|  7.75|   5.75|    5.25|null|   null|  null|null|null|        7|\n",
      "|  2|02041797|     02| 8.8|   6.75|  7.75|   6.25|    4.75|null|   null|  null|null|null|        8|\n",
      "|  3|02041796|     02| 9.6|   7.75|  6.25|   9.75|       9|null|   null|  null|null|null|      7.2|\n",
      "|  4|02041795|     02| 8.4|      7|   6.5|   6.25|    5.75|null|   null|  null|null|null|      2.6|\n",
      "|  5|02041794|     02| 7.8|      6|   7.5|   4.25|       4|null|   null|  null|null|null|      5.6|\n",
      "|  6|02041793|     02|   9|   7.25|     9|   6.25|       7|null|   null|  null|null|null|      8.2|\n",
      "|  7|02041792|     02|   9|    6.5|   8.5|      8|    8.25|null|   null|  null|null|null|      8.6|\n",
      "|  8|02041780|     02| 8.6|      7|     7|   6.25|    4.25|null|   null|  null|null|null|      6.4|\n",
      "|  9|02041779|     02| 8.8|   5.75|   5.5|   8.75|    7.25|null|   null|  null|null|null|      4.4|\n",
      "| 10|02041778|     02| 9.4|      8|  8.25|      8|       7|null|   null|  null|null|null|      8.6|\n",
      "| 11|02041777|     02|   9|   6.25|     8|      8|       6|null|   null|  null|null|null|      4.6|\n",
      "| 12|02041776|     02| 8.2|      7|   6.5|   5.75|     5.5|null|   null|  null|null|null|        5|\n",
      "| 13|02041775|     02| 9.4|   7.75|   8.5|   7.25|    6.25|null|   null|  null|null|null|      7.8|\n",
      "| 14|02041791|     02| 8.4|   7.75|  5.25|      8|    7.25|null|   null|  null|null|null|        5|\n",
      "| 15|02041790|     02| 8.8|   6.75|  7.75|   7.75|       7|null|   null|  null|null|null|        8|\n",
      "| 16|02041789|     02| 7.6|   7.25|  5.75|      6|       5|null|   null|  null|null|null|      6.6|\n",
      "| 17|02041788|     02|   8|      7|   6.5|      5|    4.75|null|   null|  null|null|null|      5.8|\n",
      "| 18|02041787|     02| 9.4|    7.5|  8.25|   9.75|    9.25|null|   null|  null|null|null|      7.4|\n",
      "| 19|02041786|     02| 8.4|      7|   6.5|    6.5|    5.25|null|   null|  null|null|null|        7|\n",
      "+---+--------+-------+----+-------+------+-------+--------+----+-------+------+----+----+---------+\n",
      "only showing top 20 rows\n",
      "\n"
     ]
    }
   ],
   "source": [
    "data_dir = '../Diemthi2020/'\n",
    "data = sparkSession.read.csv(data_dir + '*/', header=True)\n",
    "data_bosung = sparkSession.read.csv('../Bosung/*/', header=True)\n",
    "\n",
    "data.show()\n",
    "data_bosung.show()"
   ]
  },
  {
   "cell_type": "code",
   "execution_count": 3,
   "id": "4e909b14",
   "metadata": {},
   "outputs": [
    {
     "name": "stdout",
     "output_type": "stream",
     "text": [
      "root\n",
      " |-- SBD: string (nullable = true)\n",
      " |-- Toan: string (nullable = true)\n",
      " |-- Ngu_van: string (nullable = true)\n",
      " |-- Ngoai_ngu: string (nullable = true)\n",
      " |-- Vat_ly: string (nullable = true)\n",
      " |-- Hoa_hoc: string (nullable = true)\n",
      " |-- Sinh_hoc: string (nullable = true)\n",
      " |-- Lich_su: string (nullable = true)\n",
      " |-- Dia_ly: string (nullable = true)\n",
      " |-- GDCD: string (nullable = true)\n",
      "\n",
      "834375\n",
      "+--------+----+-------+---------+------+-------+--------+-------+------+----+\n",
      "|     SBD|Toan|Ngu_van|Ngoai_ngu|Vat_ly|Hoa_hoc|Sinh_hoc|Lich_su|Dia_ly|GDCD|\n",
      "+--------+----+-------+---------+------+-------+--------+-------+------+----+\n",
      "|64002156|   7|   5.25|      3.4|  7.25|      6|    5.25|   null|  null|null|\n",
      "|64002157| 5.4|   6.25|      1.8|  null|   null|    null|      4|  null|   8|\n",
      "|64002158| 4.8|      7|        4|  null|   null|    null|   5.25|  null|   8|\n",
      "|64002159|   6|   6.75|      3.2|  null|   null|    null|   3.25|  null|8.75|\n",
      "|64002160| 5.2|      7|      2.8|  null|   null|    null|    5.5|  null| 8.5|\n",
      "|64002161| 6.8|   6.75|        4|  null|   null|    null|      5|  null|   9|\n",
      "|64002162| 7.4|      7|      4.6|  7.25|      7|     6.5|   null|  null|null|\n",
      "|64002163|   3|   4.75|      3.4|  null|   null|    null|    3.5|  null| 5.5|\n",
      "|64002164| 5.8|      5|      2.2|     3|   4.25|    3.25|   null|  null|null|\n",
      "|64002165| 6.8|   6.75|      4.2|  5.25|      6|    4.75|   null|  null|null|\n",
      "+--------+----+-------+---------+------+-------+--------+-------+------+----+\n",
      "only showing top 10 rows\n",
      "\n"
     ]
    }
   ],
   "source": [
    "data = data.drop('_c0', 'Cum_thi', 'Diem_KHTN', 'Diem_KHXH')\\\n",
    "    .select(\"SBD\", 'Toan', \"Ngu_van\", \"Ngoai_ngu\", \"Vat_ly\", \"Hoa_hoc\", \"Sinh_hoc\", \"Lich_su\", \"Dia_ly\", \"GDCD\")\n",
    "\n",
    "data_bosung = data.drop('_c0', 'Cum_thi', 'Diem_KHTN', 'Diem_KHXH')\\\n",
    "    .select(\"SBD\", 'Toan', \"Ngu_van\", \"Ngoai_ngu\", \"Vat_ly\", \"Hoa_hoc\", \"Sinh_hoc\", \"Lich_su\", \"Dia_ly\", \"GDCD\")\n",
    "\n",
    "data_all = reduce(DataFrame.union, [data, data_bosung])\n",
    "data_all = data_all.drop_duplicates()\n",
    "data_all.printSchema()\n",
    "print(data.count())\n",
    "data.show(10)"
   ]
  },
  {
   "cell_type": "markdown",
   "id": "4f9d36ff",
   "metadata": {},
   "source": [
    "### Thay đổi kiểu dữ liệu các trường dữ liệu về đúng dạng của nó"
   ]
  },
  {
   "cell_type": "code",
   "execution_count": 4,
   "id": "bc8a2a4a",
   "metadata": {},
   "outputs": [],
   "source": [
    "import pyspark.sql.functions as F\n",
    "import pyspark.sql.functions as f\n",
    "from pyspark.sql.types import FloatType, StringType, IntegerType"
   ]
  },
  {
   "cell_type": "code",
   "execution_count": 5,
   "id": "318db31e",
   "metadata": {
    "scrolled": false
   },
   "outputs": [
    {
     "name": "stdout",
     "output_type": "stream",
     "text": [
      "root\n",
      " |-- SBD: string (nullable = true)\n",
      " |-- Toan: string (nullable = true)\n",
      " |-- Ngu_van: string (nullable = true)\n",
      " |-- Ngoai_ngu: string (nullable = true)\n",
      " |-- Vat_ly: string (nullable = true)\n",
      " |-- Hoa_hoc: string (nullable = true)\n",
      " |-- Sinh_hoc: string (nullable = true)\n",
      " |-- Lich_su: string (nullable = true)\n",
      " |-- Dia_ly: string (nullable = true)\n",
      " |-- GDCD: string (nullable = true)\n",
      "\n"
     ]
    }
   ],
   "source": [
    "data_all = data_all.withColumn('Toan', F.col('Toan').cast(FloatType()))\n",
    "data_all = data_all.withColumn('Ngu_van', F.col('Ngu_van').cast(FloatType()))\n",
    "data_all = data_all.withColumn('Ngoai_ngu', F.col('Ngoai_ngu').cast(FloatType()))\n",
    "data_all = data_all.withColumn('Vat_ly', F.col('Vat_ly').cast(FloatType()))\n",
    "data_all = data_all.withColumn('Hoa_hoc', F.col('Hoa_hoc').cast(FloatType()))\n",
    "data_all = data_all.withColumn('Sinh_hoc', F.col('Sinh_hoc').cast(FloatType()))\n",
    "data_all = data_all.withColumn('Lich_su', F.col('Lich_su').cast(FloatType()))\n",
    "data_all = data_all.withColumn('Dia_ly', F.col('Dia_ly').cast(FloatType()))\n",
    "data_all = data_all.withColumn('GDCD', F.col('GDCD').cast(FloatType()))\n",
    "\n",
    "data_all.printSchema()"
   ]
  },
  {
   "cell_type": "code",
   "execution_count": 6,
   "id": "a08b2f1b",
   "metadata": {},
   "outputs": [],
   "source": [
    "data_all = data_all.withColumn('Ma_cum', f.substring(f.col('SBD'), 0, 2))\n",
    "data_all = data_all.drop_duplicates()"
   ]
  },
  {
   "cell_type": "code",
   "execution_count": 7,
   "id": "d4dd64a6",
   "metadata": {},
   "outputs": [
    {
     "name": "stdout",
     "output_type": "stream",
     "text": [
      "811448\n"
     ]
    }
   ],
   "source": [
    "print(data_all.count())"
   ]
  },
  {
   "cell_type": "code",
   "execution_count": 8,
   "id": "16ef1dc9",
   "metadata": {},
   "outputs": [
    {
     "name": "stdout",
     "output_type": "stream",
     "text": [
      "811448\n"
     ]
    }
   ],
   "source": [
    "from pyspark.sql.window import Window\n",
    "\n",
    "data_all = data_all.withColumn('row_num', f.row_number().over(\n",
    "    Window.partitionBy('SBD').orderBy('SBD')\n",
    ")).filter(\"row_num == 1\").drop(\"row_num\")\n",
    "\n",
    "print(data_all.count())"
   ]
  },
  {
   "cell_type": "code",
   "execution_count": 9,
   "id": "d80c4aaf",
   "metadata": {},
   "outputs": [
    {
     "name": "stdout",
     "output_type": "stream",
     "text": [
      "+--------+----+-------+---------+------+-------+--------+-------+------+----+------+\n",
      "|     SBD|Toan|Ngu_van|Ngoai_ngu|Vat_ly|Hoa_hoc|Sinh_hoc|Lich_su|Dia_ly|GDCD|Ma_cum|\n",
      "+--------+----+-------+---------+------+-------+--------+-------+------+----+------+\n",
      "|01000061| 6.6|    6.5|      4.0|  5.25|    3.5|     2.0|   null|  null|null|    01|\n",
      "|01000256| 7.2|   7.25|      5.0|  6.75|    6.0|    5.25|   null|  null|null|    01|\n",
      "|01000622| 9.0|    8.0|      9.0|  null|   null|    null|   5.75|  7.75|8.75|    01|\n",
      "|01002152| 8.6|    7.5|      8.8|  null|   null|    null|   8.25|   8.0|9.25|    01|\n",
      "|01002352| 7.2|    6.5|      7.4|  null|   null|    null|   6.25|  6.25|7.75|    01|\n",
      "|01002463| 7.2|   7.75|     null|  null|   null|    null|   5.25|  7.25| 9.0|    01|\n",
      "|01002478| 7.4|    7.5|      6.0|  3.75|   7.25|     7.0|   null|  null|null|    01|\n",
      "|01002876| 7.8|    7.5|      6.2|  null|   null|    null|   2.25|   7.5|7.75|    01|\n",
      "|01002929| 8.6|    8.5|      9.4|  null|   null|    null|   6.25|   8.0|9.25|    01|\n",
      "|01002976| 7.0|    5.0|     null|  null|   null|    null|    4.0|  null|null|    01|\n",
      "|01003510| 8.6|    7.5|      5.6|   7.5|   4.25|     5.0|   null|  null|null|    01|\n",
      "|01003830| 8.6|   6.25|      5.2|  7.75|   6.75|    4.75|   null|  null|null|    01|\n",
      "|01003949| 8.6|   7.25|      8.4|   8.5|    5.5|    4.25|   null|  null|null|    01|\n",
      "|01003960| 5.8|    8.5|     null|  null|   null|    null|   4.75|   6.5| 8.5|    01|\n",
      "|01003984| 7.6|    8.5|      7.4|  null|   null|    null|    6.0|  8.25| 8.5|    01|\n",
      "|01004126| 9.4|    8.5|      7.8|  null|   null|    null|   6.25|   5.5| 8.5|    01|\n",
      "|01004221| 8.0|   8.75|      8.2|  null|   null|    null|    7.0|   7.5|8.75|    01|\n",
      "|01004546| 8.6|   null|     null|  null|   6.25|     6.5|   null|  null|null|    01|\n",
      "|01004558| 8.4|   null|      8.0|   8.0|   null|    null|   null|  null|null|    01|\n",
      "|01004630| 8.0|   null|     null|   7.5|   7.75|    null|   null|  null|null|    01|\n",
      "+--------+----+-------+---------+------+-------+--------+-------+------+----+------+\n",
      "only showing top 20 rows\n",
      "\n"
     ]
    }
   ],
   "source": [
    "data_all.show()"
   ]
  },
  {
   "cell_type": "code",
   "execution_count": 10,
   "id": "3affb72d",
   "metadata": {
    "scrolled": false
   },
   "outputs": [],
   "source": [
    "data_all = data_all.orderBy(\"Ma_cum\", \"SBD\")\n",
    "data_all.repartition(1).write.format(\"com.databricks.spark.csv\").option(\"header\", \"true\").save(\"mydata.csv\")"
   ]
  },
  {
   "cell_type": "code",
   "execution_count": 11,
   "id": "e446c7ad",
   "metadata": {},
   "outputs": [],
   "source": [
    "sparkSession.stop()"
   ]
  },
  {
   "cell_type": "code",
   "execution_count": null,
   "id": "bf1cfb8f",
   "metadata": {},
   "outputs": [],
   "source": []
  }
 ],
 "metadata": {
  "kernelspec": {
   "display_name": "Python 3",
   "language": "python",
   "name": "python3"
  },
  "language_info": {
   "codemirror_mode": {
    "name": "ipython",
    "version": 3
   },
   "file_extension": ".py",
   "mimetype": "text/x-python",
   "name": "python",
   "nbconvert_exporter": "python",
   "pygments_lexer": "ipython3",
   "version": "3.8.8"
  }
 },
 "nbformat": 4,
 "nbformat_minor": 5
}
